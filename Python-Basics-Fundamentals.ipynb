{
 "cells": [
  {
   "cell_type": "markdown",
   "id": "40d13362-5a4e-4b40-b9ff-d7236a1f2214",
   "metadata": {},
   "source": [
    "# Learning Python Basic Fundamentals "
   ]
  },
  {
   "cell_type": "code",
   "execution_count": 2,
   "id": "2b7b045b-77f3-4ace-be0d-9ce50d6e798b",
   "metadata": {},
   "outputs": [
    {
     "name": "stdout",
     "output_type": "stream",
     "text": [
      "Hello World\n",
      "Hello Coders!\n"
     ]
    }
   ],
   "source": [
    "print(\"Hello World\")\n",
    "print(\"Hello Coders!\")"
   ]
  },
  {
   "cell_type": "markdown",
   "id": "0ec0e4b7-2ba1-48fd-ac4d-d007956ce885",
   "metadata": {},
   "source": [
    "# 1. Variables"
   ]
  },
  {
   "cell_type": "code",
   "execution_count": 4,
   "id": "b6c9c7fd-6acd-46c6-8973-dd41281450cd",
   "metadata": {},
   "outputs": [
    {
     "name": "stdout",
     "output_type": "stream",
     "text": [
      "Abdullah\n",
      "25\n"
     ]
    }
   ],
   "source": [
    "# variables define that memory location where your data is stored !\n",
    "name = \"Abdullah\"\n",
    "age = 25\n",
    "print(name)\n",
    "print(age)"
   ]
  },
  {
   "cell_type": "code",
   "execution_count": 5,
   "id": "c90845d8-e7e7-41a2-8fa8-e0c84b1faf45",
   "metadata": {},
   "outputs": [
    {
     "name": "stdout",
     "output_type": "stream",
     "text": [
      "Danish\n",
      "22\n"
     ]
    }
   ],
   "source": [
    "# we can also change the values of the variables\n",
    "name = \"Danish\"\n",
    "age = 22\n",
    "print(name)\n",
    "print(age)"
   ]
  },
  {
   "cell_type": "code",
   "execution_count": 6,
   "id": "2c1e7365-0a75-4b75-8833-0755b554c8d8",
   "metadata": {},
   "outputs": [
    {
     "name": "stdout",
     "output_type": "stream",
     "text": [
      "True\n"
     ]
    }
   ],
   "source": [
    "age = 22.0 # float number\n",
    "isAdult = True # boolean value\n",
    "print(isAdult)"
   ]
  },
  {
   "cell_type": "markdown",
   "id": "6ce22ae6-aa5e-468d-9534-41178804a975",
   "metadata": {},
   "source": [
    "# 2. Input"
   ]
  },
  {
   "cell_type": "code",
   "execution_count": 8,
   "id": "054afd08-ed33-4c0e-979a-ef3b4e948334",
   "metadata": {},
   "outputs": [
    {
     "name": "stdin",
     "output_type": "stream",
     "text": [
      "What is your name ? Umair\n"
     ]
    },
    {
     "name": "stdout",
     "output_type": "stream",
     "text": [
      "Umair\n"
     ]
    }
   ],
   "source": [
    "name = input(\"What is your name ?\")\n",
    "print(name)"
   ]
  },
  {
   "cell_type": "markdown",
   "id": "5370cb45-4c85-4717-b357-b82262f46838",
   "metadata": {},
   "source": [
    "**Concatenation:**"
   ]
  },
  {
   "cell_type": "code",
   "execution_count": 10,
   "id": "67174e00-b06c-426c-9078-7d38cf596ed0",
   "metadata": {},
   "outputs": [
    {
     "name": "stdout",
     "output_type": "stream",
     "text": [
      "Hello Umair\n"
     ]
    }
   ],
   "source": [
    "print(\"Hello \" + name)"
   ]
  },
  {
   "cell_type": "markdown",
   "id": "b665cda3-d94c-4e04-924f-9282aab70ea5",
   "metadata": {},
   "source": [
    "# 2. Type Conversion"
   ]
  },
  {
   "cell_type": "code",
   "execution_count": 12,
   "id": "b76b044a-2a4f-4b4f-a92a-0dfba0959721",
   "metadata": {},
   "outputs": [
    {
     "name": "stdin",
     "output_type": "stream",
     "text": [
      "Enter your old age:  28\n"
     ]
    },
    {
     "name": "stdout",
     "output_type": "stream",
     "text": [
      "30\n"
     ]
    }
   ],
   "source": [
    "old_age = int(input(\"Enter your old age: \"))\n",
    "new_age = old_age + 2\n",
    "print(new_age)"
   ]
  },
  {
   "cell_type": "code",
   "execution_count": 13,
   "id": "eb7e5f05-d4b6-4296-8031-8e8c778b65ee",
   "metadata": {},
   "outputs": [],
   "source": [
    "# float()\n",
    "# str()\n",
    "# bool()"
   ]
  },
  {
   "cell_type": "markdown",
   "id": "47b48abf-6a45-48e2-b36e-868fd86fcb44",
   "metadata": {},
   "source": [
    "**Type Checking in Python**"
   ]
  },
  {
   "cell_type": "code",
   "execution_count": 15,
   "id": "b326aef6-2f77-4295-b14d-3070a74beb60",
   "metadata": {},
   "outputs": [
    {
     "name": "stdout",
     "output_type": "stream",
     "text": [
      "<class 'int'>\n"
     ]
    }
   ],
   "source": [
    "print(type(new_age))"
   ]
  },
  {
   "cell_type": "markdown",
   "id": "347fa0f3-a796-497c-814b-80b22ff9bd6d",
   "metadata": {},
   "source": [
    "# 3. Print Sum of two numbers"
   ]
  },
  {
   "cell_type": "code",
   "execution_count": 17,
   "id": "23563381-5172-44ce-baa9-5ede65c169fd",
   "metadata": {},
   "outputs": [
    {
     "name": "stdin",
     "output_type": "stream",
     "text": [
      "Enter First Number:  5\n",
      "Enter Second Number:  2\n"
     ]
    },
    {
     "name": "stdout",
     "output_type": "stream",
     "text": [
      "The sum of both numbers is: 7\n"
     ]
    }
   ],
   "source": [
    "number1 = input(\"Enter First Number: \")\n",
    "number2 = input(\"Enter Second Number: \")\n",
    "sum = int(number1) + int(number2)\n",
    "print(\"The sum of both numbers is: \" + str(sum))"
   ]
  },
  {
   "cell_type": "markdown",
   "id": "7ad6458b-8e49-4e4a-a02a-7178108c66f6",
   "metadata": {},
   "source": [
    "# 4. Strings"
   ]
  },
  {
   "cell_type": "code",
   "execution_count": 19,
   "id": "c4fd7f4d-ccee-450b-b32d-30c4a99253de",
   "metadata": {},
   "outputs": [
    {
     "name": "stdout",
     "output_type": "stream",
     "text": [
      "UMAIR\n",
      "umair\n",
      "Umair\n"
     ]
    }
   ],
   "source": [
    "name = \"Umair\"\n",
    "print(name.upper())\n",
    "print(name.lower())\n",
    "print(name)"
   ]
  },
  {
   "cell_type": "code",
   "execution_count": 20,
   "id": "7d7c6737-0388-4030-bf5b-8c0502a3033e",
   "metadata": {},
   "outputs": [
    {
     "name": "stdout",
     "output_type": "stream",
     "text": [
      "3\n"
     ]
    }
   ],
   "source": [
    "print(name.find('i'))"
   ]
  },
  {
   "cell_type": "code",
   "execution_count": 21,
   "id": "b107fed8-9d9c-4312-a170-17f985c63001",
   "metadata": {},
   "outputs": [
    {
     "name": "stdout",
     "output_type": "stream",
     "text": [
      "Usman\n",
      "Umair\n"
     ]
    }
   ],
   "source": [
    "print(name.replace(\"Umair\", \"Usman\"))\n",
    "print(name)"
   ]
  },
  {
   "cell_type": "markdown",
   "id": "b8f7ce9a-0757-4d52-ae6f-ee1316c6ccad",
   "metadata": {},
   "source": [
    "# 5. Keywords"
   ]
  },
  {
   "cell_type": "code",
   "execution_count": 23,
   "id": "f1823867-ec6d-4bc9-9cd0-59e3b3af3962",
   "metadata": {},
   "outputs": [
    {
     "name": "stdout",
     "output_type": "stream",
     "text": [
      "True\n"
     ]
    }
   ],
   "source": [
    "print(\"U\" in name)"
   ]
  },
  {
   "cell_type": "markdown",
   "id": "5373e152-a5df-4d00-9811-f523ff4fbf58",
   "metadata": {},
   "source": [
    "# 6. Arithmetic Operators"
   ]
  },
  {
   "cell_type": "code",
   "execution_count": 25,
   "id": "40bbf7f9-67d6-49a8-8730-d33a511084d6",
   "metadata": {},
   "outputs": [
    {
     "name": "stdout",
     "output_type": "stream",
     "text": [
      "7\n",
      "3\n",
      "10\n",
      "25\n",
      "2.5\n",
      "2\n",
      "1\n"
     ]
    }
   ],
   "source": [
    "print(5+2)\n",
    "print(5-2)\n",
    "print(5*2)\n",
    "print(5**2)\n",
    "print(5/2)\n",
    "print(5//2)\n",
    "print(5%2)"
   ]
  },
  {
   "cell_type": "markdown",
   "id": "09175e70-b423-4fd5-bfb4-117c19ddd2cf",
   "metadata": {},
   "source": [
    "# 7. Shortcuts"
   ]
  },
  {
   "cell_type": "code",
   "execution_count": 27,
   "id": "6eb4d51c-d514-4ccb-bb1d-5959dfbf731f",
   "metadata": {},
   "outputs": [],
   "source": [
    "i = 5\n",
    "i = i + 2\n",
    "i += 2\n",
    "i -= 2\n",
    "i *= 2\n",
    "i /= 2"
   ]
  },
  {
   "cell_type": "markdown",
   "id": "28395550-0640-470c-8f5c-457194188340",
   "metadata": {},
   "source": [
    "# 8. Comments"
   ]
  },
  {
   "cell_type": "code",
   "execution_count": 29,
   "id": "c633d554-90be-48e9-bdef-493b9cede935",
   "metadata": {},
   "outputs": [],
   "source": [
    "# This is my first comment\n",
    "# This is my another comment "
   ]
  },
  {
   "cell_type": "markdown",
   "id": "fc132c9a-d358-4aa8-8ad6-9f222e448529",
   "metadata": {},
   "source": [
    "# 8. Comparison Operators"
   ]
  },
  {
   "cell_type": "code",
   "execution_count": 31,
   "id": "f03ba387-2063-4044-8843-f54eaf262754",
   "metadata": {},
   "outputs": [
    {
     "name": "stdout",
     "output_type": "stream",
     "text": [
      "True\n",
      "False\n",
      "True\n",
      "False\n",
      "False\n",
      "True\n",
      "True\n",
      "False\n",
      "False\n"
     ]
    }
   ],
   "source": [
    "print(3 > 2)\n",
    "print(3 < 2)\n",
    "print(3 >= 2)\n",
    "print(3 <= 2)\n",
    "print(3 == 2)\n",
    "print(3 != 2)\n",
    "print(3 > 2 or 2 < 1) \n",
    "print(3 > 2 and 2 < 1) \n",
    "print(not 3 > 2)"
   ]
  },
  {
   "cell_type": "markdown",
   "id": "bbf59c7e-361e-453d-b097-e9105dcb9cce",
   "metadata": {},
   "source": [
    "# 9. If-Else Statements"
   ]
  },
  {
   "cell_type": "code",
   "execution_count": 33,
   "id": "7b36e8b8-a64d-423a-9cd0-e0e052bdc571",
   "metadata": {},
   "outputs": [
    {
     "name": "stdout",
     "output_type": "stream",
     "text": [
      "You can not vote\n"
     ]
    }
   ],
   "source": [
    "age = 16\n",
    "\n",
    "if age >= 18:\n",
    "    print(\"You are an adult.\")\n",
    "    print(\"You can vote\")\n",
    "\n",
    "else:\n",
    "    print(\"You can not vote\")"
   ]
  },
  {
   "cell_type": "code",
   "execution_count": 34,
   "id": "3332ec31-5942-4036-996c-76d42e5770db",
   "metadata": {},
   "outputs": [
    {
     "name": "stdout",
     "output_type": "stream",
     "text": [
      "You are an adult.\n",
      "You can vote\n"
     ]
    }
   ],
   "source": [
    "age = 18\n",
    "\n",
    "if age >= 18:\n",
    "    print(\"You are an adult.\")\n",
    "    print(\"You can vote\")\n",
    "\n",
    "elif age < 18 and  age > 3:\n",
    "    print(\"You are in school\")\n",
    "    print(\"You can not vote\")\n",
    "\n",
    "else:\n",
    "    print(\"Thanyou!\")"
   ]
  },
  {
   "cell_type": "markdown",
   "id": "c5be3405-c82b-42d0-bbab-63ed684613e4",
   "metadata": {},
   "source": [
    "# 10. Range"
   ]
  },
  {
   "cell_type": "code",
   "execution_count": 37,
   "id": "4e51820e-db30-410f-88d3-ef8b35a49a3c",
   "metadata": {},
   "outputs": [
    {
     "name": "stdout",
     "output_type": "stream",
     "text": [
      "range(0, 5)\n"
     ]
    }
   ],
   "source": [
    "numbers = range(5)  # 5 is not included as the last number of the range doesn't include in the range \n",
    "print(numbers)"
   ]
  },
  {
   "cell_type": "markdown",
   "id": "0d364497-4283-465f-99c1-d45a341cc3c0",
   "metadata": {},
   "source": [
    "# 11. While Loop"
   ]
  },
  {
   "cell_type": "code",
   "execution_count": 46,
   "id": "d7c57c93-7680-463f-b1d1-ddc51de86982",
   "metadata": {},
   "outputs": [
    {
     "name": "stdout",
     "output_type": "stream",
     "text": [
      "1\n",
      "2\n",
      "3\n",
      "4\n",
      "5\n",
      "6\n",
      "7\n",
      "8\n",
      "9\n",
      "10\n"
     ]
    }
   ],
   "source": [
    "i = 1 \n",
    "while i <= 10:\n",
    "    print(i)\n",
    "    i += 1"
   ]
  },
  {
   "cell_type": "code",
   "execution_count": 48,
   "id": "e1b0553e-9ea3-4c80-a5b3-7f69043b53fe",
   "metadata": {},
   "outputs": [
    {
     "name": "stdout",
     "output_type": "stream",
     "text": [
      "*\n",
      "**\n",
      "***\n",
      "****\n",
      "*****\n"
     ]
    }
   ],
   "source": [
    "i = 1 \n",
    "while i <= 5:\n",
    "    print(i * '*')\n",
    "    i += 1"
   ]
  },
  {
   "cell_type": "code",
   "execution_count": 54,
   "id": "fb6a21d7-f7bb-4303-bd42-085f7a81dcae",
   "metadata": {},
   "outputs": [
    {
     "name": "stdout",
     "output_type": "stream",
     "text": [
      "*****\n",
      "****\n",
      "***\n",
      "**\n",
      "*\n"
     ]
    }
   ],
   "source": [
    "i = 5 \n",
    "while i >= 1:\n",
    "    print(i * '*')\n",
    "    i -= 1"
   ]
  },
  {
   "cell_type": "markdown",
   "id": "ab8939ae-4392-4ab2-b8b6-443a53ea9ad8",
   "metadata": {},
   "source": [
    "# 12. For Loop"
   ]
  },
  {
   "cell_type": "code",
   "execution_count": 58,
   "id": "df132b38-2cf1-46c2-9225-301048987db8",
   "metadata": {},
   "outputs": [
    {
     "name": "stdout",
     "output_type": "stream",
     "text": [
      "0\n",
      "1\n",
      "2\n",
      "3\n",
      "4\n"
     ]
    }
   ],
   "source": [
    "# we use for loop in python to get the items of a particular object or sequence \n",
    "for i in range(5):\n",
    "    print(i)"
   ]
  },
  {
   "cell_type": "markdown",
   "id": "b8029949-3108-4a9f-a9d0-958f4a7183ed",
   "metadata": {},
   "source": [
    "# 13. Lists"
   ]
  },
  {
   "cell_type": "code",
   "execution_count": 65,
   "id": "185ad1fe-02bf-434f-b62e-2fb49ed1f228",
   "metadata": {},
   "outputs": [
    {
     "name": "stdout",
     "output_type": "stream",
     "text": [
      "[56, 23, 89, 85]\n"
     ]
    }
   ],
   "source": [
    "marks = [56, 23, 89, 85]\n",
    "print(marks)"
   ]
  },
  {
   "cell_type": "markdown",
   "id": "f73d9a04-8d82-483a-96c2-060312202d94",
   "metadata": {},
   "source": [
    "**Complex Datatypes lists**"
   ]
  },
  {
   "cell_type": "code",
   "execution_count": 72,
   "id": "b9ad6b06-d77d-471d-81cb-6dd2b4c9ae1e",
   "metadata": {},
   "outputs": [
    {
     "name": "stdout",
     "output_type": "stream",
     "text": [
      "[56, 23, 'Maths', 'Chemistry', True, False, 22.0, 66.2]\n"
     ]
    }
   ],
   "source": [
    "list = [56, 23, \"Maths\", \"Chemistry\", True, False, 22.0, 66.2]\n",
    "print(list)"
   ]
  },
  {
   "cell_type": "code",
   "execution_count": 74,
   "id": "01ae3547-bf28-4b50-9277-547a43daacf9",
   "metadata": {},
   "outputs": [
    {
     "name": "stdout",
     "output_type": "stream",
     "text": [
      "56\n",
      "85\n",
      "85\n",
      "89\n"
     ]
    }
   ],
   "source": [
    "marks = [56, 23, 89, 85]\n",
    "print(marks[0])\n",
    "print(marks[3])\n",
    "print(marks[-1])\n",
    "print(marks[-2])"
   ]
  },
  {
   "cell_type": "code",
   "execution_count": 78,
   "id": "f758edac-0f5f-4d83-9f56-9cf69f29ad35",
   "metadata": {},
   "outputs": [
    {
     "name": "stdout",
     "output_type": "stream",
     "text": [
      "[56, 23]\n",
      "[23, 89, 85]\n"
     ]
    }
   ],
   "source": [
    "marks = [56, 23, 89, 85]\n",
    "print(marks[0:2])\n",
    "print(marks[1:4])"
   ]
  },
  {
   "cell_type": "markdown",
   "id": "f5484465-0c37-490f-ad13-ab57a4e81e6d",
   "metadata": {},
   "source": [
    "# 14. For loop in Lists"
   ]
  },
  {
   "cell_type": "code",
   "execution_count": 80,
   "id": "8e0495a7-e436-4a5c-be87-a53e6f8a2045",
   "metadata": {},
   "outputs": [
    {
     "name": "stdout",
     "output_type": "stream",
     "text": [
      "56\n",
      "23\n",
      "89\n",
      "85\n"
     ]
    }
   ],
   "source": [
    "marks = [56, 23, 89, 85]\n",
    "for score in marks:\n",
    "    print(score) "
   ]
  },
  {
   "cell_type": "code",
   "execution_count": 87,
   "id": "7bd1c1c1-22bb-4c94-b4c1-30b4e345dd6d",
   "metadata": {},
   "outputs": [],
   "source": [
    "marks.append(99)  # adds the element at the end of the list"
   ]
  },
  {
   "cell_type": "code",
   "execution_count": 89,
   "id": "dfdf955d-6e64-470f-b9a9-3c04bc5bc6e6",
   "metadata": {},
   "outputs": [
    {
     "name": "stdout",
     "output_type": "stream",
     "text": [
      "[56, 23, 89, 85, 99, 99]\n"
     ]
    }
   ],
   "source": [
    "print(marks)"
   ]
  },
  {
   "cell_type": "code",
   "execution_count": 91,
   "id": "7765c56b-efce-49d5-bccc-59d77b186b81",
   "metadata": {},
   "outputs": [
    {
     "name": "stdout",
     "output_type": "stream",
     "text": [
      "[56, 23, 66, 89, 85, 99, 99]\n"
     ]
    }
   ],
   "source": [
    "marks.insert(2, 66)\n",
    "print(marks)"
   ]
  },
  {
   "cell_type": "code",
   "execution_count": 93,
   "id": "5814262b-e24a-430c-bd43-2eae0dd20522",
   "metadata": {},
   "outputs": [
    {
     "name": "stdout",
     "output_type": "stream",
     "text": [
      "True\n"
     ]
    }
   ],
   "source": [
    "print(99 in marks)"
   ]
  },
  {
   "cell_type": "code",
   "execution_count": 95,
   "id": "8cd2be38-4d05-4e9a-a85f-7dfa507504e0",
   "metadata": {},
   "outputs": [
    {
     "data": {
      "text/plain": [
       "7"
      ]
     },
     "execution_count": 95,
     "metadata": {},
     "output_type": "execute_result"
    }
   ],
   "source": [
    "len(marks)"
   ]
  },
  {
   "cell_type": "code",
   "execution_count": 97,
   "id": "95927615-d3e2-4d47-bd76-b2cdb58009f9",
   "metadata": {},
   "outputs": [
    {
     "name": "stdout",
     "output_type": "stream",
     "text": [
      "[]\n"
     ]
    }
   ],
   "source": [
    "marks.clear()\n",
    "print(marks)"
   ]
  },
  {
   "cell_type": "markdown",
   "id": "369dcde7-561e-4f11-9d97-2fdb0f2d014c",
   "metadata": {},
   "source": [
    "# 15. Break and Continue"
   ]
  },
  {
   "cell_type": "code",
   "execution_count": 104,
   "id": "73295006-f14f-48ef-9131-dc7d5d7534d3",
   "metadata": {},
   "outputs": [
    {
     "name": "stdout",
     "output_type": "stream",
     "text": [
      "Abdullah\n",
      "Sameer\n"
     ]
    }
   ],
   "source": [
    "students = [\"Abdullah\", \"Sameer\", \"Danish\", \"Umair\", \"Usman\"]\n",
    "\n",
    "for student in students:\n",
    "    if student == \"Danish\":\n",
    "        break \n",
    "    print(student)"
   ]
  },
  {
   "cell_type": "code",
   "execution_count": 106,
   "id": "71a27adc-efdc-4c50-826a-5743d4335e4b",
   "metadata": {},
   "outputs": [
    {
     "name": "stdout",
     "output_type": "stream",
     "text": [
      "Abdullah\n",
      "Sameer\n",
      "Danish\n",
      "Usman\n"
     ]
    }
   ],
   "source": [
    "students = [\"Abdullah\", \"Sameer\", \"Danish\", \"Umair\", \"Usman\"]\n",
    "\n",
    "for student in students:\n",
    "    if student == \"Umair\":\n",
    "        continue \n",
    "    print(student)"
   ]
  },
  {
   "cell_type": "markdown",
   "id": "08f5937a-d117-4933-9dc9-b6e60f95c0d9",
   "metadata": {},
   "source": [
    "# 16. Tuple"
   ]
  },
  {
   "cell_type": "code",
   "execution_count": 109,
   "id": "704dce2f-865b-4b6d-9572-ab9e5d746f6d",
   "metadata": {},
   "outputs": [
    {
     "ename": "TypeError",
     "evalue": "'tuple' object does not support item assignment",
     "output_type": "error",
     "traceback": [
      "\u001b[1;31m---------------------------------------------------------------------------\u001b[0m",
      "\u001b[1;31mTypeError\u001b[0m                                 Traceback (most recent call last)",
      "Cell \u001b[1;32mIn[109], line 4\u001b[0m\n\u001b[0;32m      1\u001b[0m \u001b[38;5;66;03m# tuples are unchangeable and we can not assign or change any element in the tuples\u001b[39;00m\n\u001b[0;32m      3\u001b[0m marks \u001b[38;5;241m=\u001b[39m (\u001b[38;5;241m56\u001b[39m, \u001b[38;5;241m23\u001b[39m, \u001b[38;5;241m89\u001b[39m, \u001b[38;5;241m85\u001b[39m)\n\u001b[1;32m----> 4\u001b[0m marks[\u001b[38;5;241m0\u001b[39m] \u001b[38;5;241m=\u001b[39m \u001b[38;5;241m99\u001b[39m\n",
      "\u001b[1;31mTypeError\u001b[0m: 'tuple' object does not support item assignment"
     ]
    }
   ],
   "source": [
    "# tuples are unchangeable and we can not assign or change any element in the tuples\n",
    "\n",
    "marks = (56, 23, 89, 85)\n",
    "marks[0] = 99"
   ]
  },
  {
   "cell_type": "code",
   "execution_count": 115,
   "id": "e43c918f-0459-46a1-8ae6-1a144391150f",
   "metadata": {},
   "outputs": [
    {
     "name": "stdout",
     "output_type": "stream",
     "text": [
      "1\n"
     ]
    }
   ],
   "source": [
    "marks = (56, 23, 89, 85)\n",
    "print(marks.count(89))"
   ]
  },
  {
   "cell_type": "code",
   "execution_count": 117,
   "id": "e5fd0450-9f63-417a-9321-132987fe959f",
   "metadata": {},
   "outputs": [
    {
     "name": "stdout",
     "output_type": "stream",
     "text": [
      "3\n"
     ]
    }
   ],
   "source": [
    "print(marks.index(85))"
   ]
  },
  {
   "cell_type": "markdown",
   "id": "2990c090-7cc0-4502-9418-fcdf1a81e35a",
   "metadata": {},
   "source": [
    "# 17. Sets"
   ]
  },
  {
   "cell_type": "code",
   "execution_count": 122,
   "id": "3d651861-df6b-43d8-99b4-8dd17a377a92",
   "metadata": {},
   "outputs": [
    {
     "name": "stdout",
     "output_type": "stream",
     "text": [
      "{56, 89, 85, 23}\n"
     ]
    }
   ],
   "source": [
    "# sets can not have duplicate values adn they can not be iterated through index\n",
    "marks = {56, 23, 89, 85, 85, 85}\n",
    "print(marks)\n",
    "\n",
    "# sets are unordered"
   ]
  },
  {
   "cell_type": "markdown",
   "id": "3ab6fc7a-6cfd-4f45-8929-7dc769769018",
   "metadata": {},
   "source": [
    "# 18. Dictionary"
   ]
  },
  {
   "cell_type": "code",
   "execution_count": 131,
   "id": "4900bc64-1f56-4577-8c03-e871fc6dc811",
   "metadata": {},
   "outputs": [
    {
     "name": "stdout",
     "output_type": "stream",
     "text": [
      "65\n"
     ]
    }
   ],
   "source": [
    "dict = {\n",
    "    \"name\": \"Noman\",\n",
    "    \"English\": 95,\n",
    "    \"Maths\": 65,\n",
    "    \"Parent_Name\": \"Hassan\"\n",
    "}\n",
    "\n",
    "print(dict[\"Maths\"])"
   ]
  },
  {
   "cell_type": "code",
   "execution_count": 133,
   "id": "e800c959-5ee1-4b13-98f4-47e90bc3c8c9",
   "metadata": {},
   "outputs": [
    {
     "name": "stdout",
     "output_type": "stream",
     "text": [
      "{'name': 'Noman', 'English': 95, 'Maths': 65, 'Parent_Name': 'Hassan', 'Physics': 89}\n"
     ]
    }
   ],
   "source": [
    "dict[\"Physics\"] = 89\n",
    "print(dict)"
   ]
  },
  {
   "cell_type": "markdown",
   "id": "a89720f4-ecb4-45cf-9adc-8cf39cb39039",
   "metadata": {},
   "source": [
    "# 19. Functions"
   ]
  },
  {
   "cell_type": "markdown",
   "id": "ac360d01-ba38-48e6-9c9d-e5f28d7d0d7a",
   "metadata": {},
   "source": [
    "**1. Built-in Functions**"
   ]
  },
  {
   "cell_type": "code",
   "execution_count": 137,
   "id": "7f924cbe-4a16-4e3b-9a49-09e6242ccf79",
   "metadata": {},
   "outputs": [
    {
     "data": {
      "text/plain": [
       "0.0"
      ]
     },
     "execution_count": 137,
     "metadata": {},
     "output_type": "execute_result"
    }
   ],
   "source": [
    "# for example\n",
    "int()\n",
    "str()\n",
    "bool()\n",
    "float()"
   ]
  },
  {
   "cell_type": "markdown",
   "id": "d80d8426-590e-473b-8763-3f660fc34838",
   "metadata": {},
   "source": [
    "**2. Module Functions**"
   ]
  },
  {
   "cell_type": "code",
   "execution_count": 142,
   "id": "3aba558d-5be7-4128-9aae-8a3676925828",
   "metadata": {},
   "outputs": [
    {
     "name": "stdout",
     "output_type": "stream",
     "text": [
      "['__doc__', '__loader__', '__name__', '__package__', '__spec__', 'acos', 'acosh', 'asin', 'asinh', 'atan', 'atan2', 'atanh', 'cbrt', 'ceil', 'comb', 'copysign', 'cos', 'cosh', 'degrees', 'dist', 'e', 'erf', 'erfc', 'exp', 'exp2', 'expm1', 'fabs', 'factorial', 'floor', 'fmod', 'frexp', 'fsum', 'gamma', 'gcd', 'hypot', 'inf', 'isclose', 'isfinite', 'isinf', 'isnan', 'isqrt', 'lcm', 'ldexp', 'lgamma', 'log', 'log10', 'log1p', 'log2', 'modf', 'nan', 'nextafter', 'perm', 'pi', 'pow', 'prod', 'radians', 'remainder', 'sin', 'sinh', 'sqrt', 'sumprod', 'tan', 'tanh', 'tau', 'trunc', 'ulp']\n"
     ]
    }
   ],
   "source": [
    "import math\n",
    "print(dir(math))"
   ]
  },
  {
   "cell_type": "code",
   "execution_count": 154,
   "id": "6f4ca050-f340-4d38-a64d-80b7aa15a45e",
   "metadata": {},
   "outputs": [
    {
     "name": "stdout",
     "output_type": "stream",
     "text": [
      "4.0\n"
     ]
    }
   ],
   "source": [
    "import math\n",
    "print(math.sqrt(16))"
   ]
  },
  {
   "cell_type": "code",
   "execution_count": 156,
   "id": "29706a8f-55e9-44a6-aaa2-159b4d41226c",
   "metadata": {},
   "outputs": [
    {
     "name": "stdout",
     "output_type": "stream",
     "text": [
      "6\n",
      "5\n"
     ]
    }
   ],
   "source": [
    "print(math.ceil(5.5))\n",
    "print(math.floor(5.5))"
   ]
  },
  {
   "cell_type": "markdown",
   "id": "510df406-08a3-4e9a-9f2b-9923bb0866c5",
   "metadata": {},
   "source": [
    "**3. User-defined Functions**"
   ]
  },
  {
   "cell_type": "code",
   "execution_count": 159,
   "id": "aa6697f8-1fd7-4563-8156-6662f07cd4bd",
   "metadata": {},
   "outputs": [
    {
     "name": "stdout",
     "output_type": "stream",
     "text": [
      "3\n"
     ]
    }
   ],
   "source": [
    "def print_sum(first, second):\n",
    "    print(first + second )\n",
    "\n",
    "print_sum(1, 2)"
   ]
  }
 ],
 "metadata": {
  "kernelspec": {
   "display_name": "Python 3 (ipykernel)",
   "language": "python",
   "name": "python3"
  },
  "language_info": {
   "codemirror_mode": {
    "name": "ipython",
    "version": 3
   },
   "file_extension": ".py",
   "mimetype": "text/x-python",
   "name": "python",
   "nbconvert_exporter": "python",
   "pygments_lexer": "ipython3",
   "version": "3.12.4"
  }
 },
 "nbformat": 4,
 "nbformat_minor": 5
}
